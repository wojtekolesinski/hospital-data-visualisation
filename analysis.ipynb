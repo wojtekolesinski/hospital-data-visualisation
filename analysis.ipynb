{
 "cells": [
  {
   "cell_type": "code",
   "execution_count": 1,
   "id": "c451bd1b",
   "metadata": {},
   "outputs": [],
   "source": [
    "import pandas as pd\n",
    "import numpy as np"
   ]
  },
  {
   "cell_type": "code",
   "execution_count": 2,
   "id": "831de6fd",
   "metadata": {},
   "outputs": [],
   "source": [
    "general = pd.read_csv('test/general.csv')\n",
    "prenatal = pd.read_csv('test/prenatal.csv')\n",
    "sports = pd.read_csv('test/sports.csv')\n",
    "\n",
    "pd.set_option('display.max_columns', 8)"
   ]
  },
  {
   "cell_type": "code",
   "execution_count": 3,
   "id": "ccf144f6",
   "metadata": {},
   "outputs": [],
   "source": [
    "prenatal.columns = general.columns\n",
    "sports.columns = general.columns\n"
   ]
  },
  {
   "cell_type": "code",
   "execution_count": 4,
   "id": "85265025",
   "metadata": {},
   "outputs": [],
   "source": [
    "combined_data = pd.concat([general, prenatal, sports], ignore_index=True).iloc[:, 1:]\n",
    "\n",
    "combined_data.dropna(inplace=True, how='all')\n",
    "\n",
    "combined_data.gender = combined_data.gender.apply(lambda x: 'm' if x in ['male', 'man'] else x)\n",
    "combined_data.gender = combined_data.gender.apply(lambda x: 'f' if x in ['female', 'woman'] else x)\n",
    "combined_data.loc[combined_data.hospital == 'prenatal', 'gender'] = 'f'\n",
    "\n",
    "for column in ['bmi', 'diagnosis', 'blood_test', 'ecg', 'ultrasound', 'mri', 'xray', 'children', 'months']:\n",
    "    combined_data.loc[combined_data[column].isnull(), column] = 0 "
   ]
  },
  {
   "cell_type": "code",
   "execution_count": 5,
   "id": "a75e972f",
   "metadata": {},
   "outputs": [
    {
     "name": "stdout",
     "output_type": "stream",
     "text": [
      "     hospital gender   age  height  ...  mri  xray children months\n",
      "929    sports      f  23.0   6.809  ...    t     f      0.0    0.0\n",
      "927    sports      m  21.0   6.052  ...    t     f      0.0    0.0\n",
      "516  prenatal      f  20.0   1.650  ...    0     f      1.0    4.0\n",
      "87    general      m  54.0   1.720  ...    0     0      0.0    0.0\n",
      "885    sports      f  16.0   5.915  ...    t     f      0.0    0.0\n",
      "463  prenatal      f  34.0   1.650  ...    0     f      1.0    5.0\n",
      "112   general      m  77.0   1.690  ...    0     0      0.0    0.0\n",
      "297   general      m  56.0   1.480  ...    0     0      0.0    0.0\n",
      "417   general      f  26.0   1.650  ...    0     0      0.0    0.0\n",
      "660  prenatal      f  38.0   1.590  ...    0     f      1.0    4.0\n",
      "344   general      f  60.0   1.410  ...    0     0      0.0    0.0\n",
      "834    sports      f  21.0   5.585  ...    f     t      0.0    0.0\n",
      "10    general      m  27.0   1.850  ...    0     0      0.0    0.0\n",
      "56    general      m  23.0   1.650  ...    0     0      0.0    0.0\n",
      "616  prenatal      f  33.0   1.770  ...    0     f      1.0    7.0\n",
      "479  prenatal      f  35.0   1.810  ...    0     f      1.0    8.0\n",
      "578  prenatal      f  31.0   1.770  ...    0     f      1.0    8.0\n",
      "411   general      m  26.0   1.610  ...    0     0      0.0    0.0\n",
      "521  prenatal      f  30.0   1.740  ...    0     f      1.0    3.0\n",
      "941    sports      f  25.0   6.208  ...    f     t      0.0    0.0\n",
      "\n",
      "[20 rows x 14 columns]\n"
     ]
    }
   ],
   "source": [
    "print(combined_data.sample(n=20, random_state=30))\n"
   ]
  },
  {
   "cell_type": "markdown",
   "id": "78e1dccf",
   "metadata": {},
   "source": [
    "    1. Which hospital has the highest number of patients?\n",
    "    2. What share of the patients in the general hospital suffers from stomach-related issues? Round the result to the third decimal place.\n",
    "    3. What share of the patients in the sports hospital suffers from dislocation-related issues? Round the result to the third decimal place.\n",
    "    4. What is the difference in the median ages of the patients in the general and sports hospitals?\n",
    "    5. After data processing at the previous stages, the blood_test column has three values: t= a blood test was taken, f= a blood test wasn't taken, and 0= there is no information. In which hospital the blood test was taken the most often (there is the biggest number of t in the blood_test column among all the hospitals)? How many blood tests were taken?"
   ]
  },
  {
   "cell_type": "code",
   "execution_count": 6,
   "id": "3c2d2118",
   "metadata": {},
   "outputs": [
    {
     "data": {
      "text/plain": [
       "hospital\n",
       "general    461\n",
       "dtype: int64"
      ]
     },
     "execution_count": 6,
     "metadata": {},
     "output_type": "execute_result"
    }
   ],
   "source": [
    "combined_data.groupby('hospital').size().nlargest(1)\n"
   ]
  },
  {
   "cell_type": "code",
   "execution_count": 7,
   "id": "69d15527",
   "metadata": {},
   "outputs": [
    {
     "data": {
      "text/plain": [
       "0.325"
      ]
     },
     "execution_count": 7,
     "metadata": {},
     "output_type": "execute_result"
    }
   ],
   "source": [
    "general_patients = combined_data.loc[combined_data['hospital'] == 'general']\n",
    "\n",
    "(general_patients.groupby('diagnosis').size() / general_patients.shape[0])['stomach'].round(3)"
   ]
  },
  {
   "cell_type": "code",
   "execution_count": 8,
   "id": "bcb8bc56",
   "metadata": {},
   "outputs": [
    {
     "data": {
      "text/plain": [
       "0.285"
      ]
     },
     "execution_count": 8,
     "metadata": {},
     "output_type": "execute_result"
    }
   ],
   "source": [
    "sports_patients = combined_data.loc[combined_data['hospital'] == 'sports']\n",
    "\n",
    "(sports_patients.groupby('diagnosis').size() / sports_patients.shape[0])['dislocation'].round(3)"
   ]
  },
  {
   "cell_type": "code",
   "execution_count": 9,
   "id": "a0a72121",
   "metadata": {},
   "outputs": [
    {
     "data": {
      "text/plain": [
       "19.0"
      ]
     },
     "execution_count": 9,
     "metadata": {},
     "output_type": "execute_result"
    }
   ],
   "source": [
    "general_patients.age.median() - sports_patients.age.median()"
   ]
  },
  {
   "cell_type": "code",
   "execution_count": 14,
   "id": "72fa8924",
   "metadata": {},
   "outputs": [
    {
     "data": {
      "text/plain": [
       "hospital  blood_test\n",
       "general   0              72\n",
       "          f             206\n",
       "          t             183\n",
       "prenatal  t             325\n",
       "sports    0             214\n",
       "dtype: int64"
      ]
     },
     "execution_count": 14,
     "metadata": {},
     "output_type": "execute_result"
    }
   ],
   "source": [
    "combined_data.groupby(['hospital', 'blood_test']).size()"
   ]
  },
  {
   "cell_type": "code",
   "execution_count": 15,
   "id": "f9096af0",
   "metadata": {},
   "outputs": [
    {
     "data": {
      "text/plain": [
       "0      sports\n",
       "1      sports\n",
       "2      sports\n",
       "3      sports\n",
       "4      sports\n",
       "        ...  \n",
       "212    sports\n",
       "213    sports\n",
       "214    sports\n",
       "215    sports\n",
       "216    sports\n",
       "Name: hospital, Length: 217, dtype: object"
      ]
     },
     "execution_count": 15,
     "metadata": {},
     "output_type": "execute_result"
    }
   ],
   "source": []
  }
 ],
 "metadata": {
  "kernelspec": {
   "display_name": "Python 3 (ipykernel)",
   "language": "python",
   "name": "python3"
  },
  "language_info": {
   "codemirror_mode": {
    "name": "ipython",
    "version": 3
   },
   "file_extension": ".py",
   "mimetype": "text/x-python",
   "name": "python",
   "nbconvert_exporter": "python",
   "pygments_lexer": "ipython3",
   "version": "3.8.10"
  }
 },
 "nbformat": 4,
 "nbformat_minor": 5
}

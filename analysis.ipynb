{
 "cells": [
  {
   "cell_type": "code",
   "execution_count": 1,
   "id": "c451bd1b",
   "metadata": {},
   "outputs": [],
   "source": [
    "import pandas as pd\n",
    "import numpy as np\n",
    "import seaborn as sns\n",
    "import matplotlib.pyplot as plt"
   ]
  },
  {
   "cell_type": "code",
   "execution_count": 2,
   "id": "831de6fd",
   "metadata": {},
   "outputs": [],
   "source": [
    "general = pd.read_csv('test/general.csv')\n",
    "prenatal = pd.read_csv('test/prenatal.csv')\n",
    "sports = pd.read_csv('test/sports.csv')\n",
    "\n",
    "pd.set_option('display.max_columns', 8)"
   ]
  },
  {
   "cell_type": "code",
   "execution_count": 3,
   "id": "ccf144f6",
   "metadata": {},
   "outputs": [],
   "source": [
    "prenatal.columns = general.columns\n",
    "sports.columns = general.columns"
   ]
  },
  {
   "cell_type": "code",
   "execution_count": 4,
   "id": "85265025",
   "metadata": {},
   "outputs": [],
   "source": [
    "combined_data = pd.concat([general, prenatal, sports], ignore_index=True).iloc[:, 1:]\n",
    "\n",
    "combined_data.dropna(inplace=True, how='all')\n",
    "\n",
    "combined_data.gender = combined_data.gender.apply(lambda x: 'm' if x in ['male', 'man'] else x)\n",
    "combined_data.gender = combined_data.gender.apply(lambda x: 'f' if x in ['female', 'woman'] else x)\n",
    "combined_data.loc[combined_data.hospital == 'prenatal', 'gender'] = 'f'\n",
    "\n",
    "for column in ['bmi', 'diagnosis', 'blood_test', 'ecg', 'ultrasound', 'mri', 'xray', 'children', 'months']:\n",
    "    combined_data.loc[combined_data[column].isnull(), column] = 0 "
   ]
  },
  {
   "cell_type": "code",
   "execution_count": null,
   "id": "a75e972f",
   "metadata": {},
   "outputs": [],
   "source": []
  },
  {
   "cell_type": "markdown",
   "id": "78e1dccf",
   "metadata": {},
   "source": [
    "1. Which hospital has the highest number of patients?"
   ]
  },
  {
   "cell_type": "code",
   "execution_count": 5,
   "id": "3c2d2118",
   "metadata": {},
   "outputs": [
    {
     "data": {
      "text/plain": [
       "hospital\n",
       "general    461\n",
       "dtype: int64"
      ]
     },
     "execution_count": 5,
     "metadata": {},
     "output_type": "execute_result"
    }
   ],
   "source": [
    "combined_data.groupby('hospital').size().nlargest(1)\n"
   ]
  },
  {
   "cell_type": "markdown",
   "id": "aeb523bc",
   "metadata": {},
   "source": [
    "2. What share of the patients in the general hospital suffers from stomach-related issues? Round the result to the third decimal place."
   ]
  },
  {
   "cell_type": "code",
   "execution_count": 6,
   "id": "69d15527",
   "metadata": {},
   "outputs": [
    {
     "data": {
      "text/plain": [
       "0.325"
      ]
     },
     "execution_count": 6,
     "metadata": {},
     "output_type": "execute_result"
    }
   ],
   "source": [
    "general_patients = combined_data.loc[combined_data['hospital'] == 'general']\n",
    "\n",
    "(general_patients.groupby('diagnosis').size() / general_patients.shape[0])['stomach'].round(3)"
   ]
  },
  {
   "cell_type": "markdown",
   "id": "3bb2e2db",
   "metadata": {},
   "source": [
    "3. What share of the patients in the sports hospital suffers from dislocation-related issues? Round the result to the third decimal place."
   ]
  },
  {
   "cell_type": "code",
   "execution_count": 7,
   "id": "bcb8bc56",
   "metadata": {},
   "outputs": [
    {
     "data": {
      "text/plain": [
       "0.285"
      ]
     },
     "execution_count": 7,
     "metadata": {},
     "output_type": "execute_result"
    }
   ],
   "source": [
    "sports_patients = combined_data.loc[combined_data['hospital'] == 'sports']\n",
    "\n",
    "(sports_patients.groupby('diagnosis').size() / sports_patients.shape[0])['dislocation'].round(3)"
   ]
  },
  {
   "cell_type": "markdown",
   "id": "0cc9a43a",
   "metadata": {},
   "source": [
    "4. What is the difference in the median ages of the patients in the general and sports hospitals?"
   ]
  },
  {
   "cell_type": "code",
   "execution_count": 8,
   "id": "a0a72121",
   "metadata": {},
   "outputs": [
    {
     "data": {
      "text/plain": [
       "19.0"
      ]
     },
     "execution_count": 8,
     "metadata": {},
     "output_type": "execute_result"
    }
   ],
   "source": [
    "general_patients.age.median() - sports_patients.age.median()"
   ]
  },
  {
   "cell_type": "markdown",
   "id": "498073db",
   "metadata": {},
   "source": [
    "5. After data processing at the previous stages, the blood_test column has three values: t= a blood test was taken, f= a blood test wasn't taken, and 0= there is no information. In which hospital the blood test was taken the most often (there is the biggest number of t in the blood_test column among all the hospitals)? How many blood tests were taken?"
   ]
  },
  {
   "cell_type": "code",
   "execution_count": 9,
   "id": "72fa8924",
   "metadata": {},
   "outputs": [
    {
     "data": {
      "text/plain": [
       "hospital  blood_test\n",
       "general   0              72\n",
       "          f             206\n",
       "          t             183\n",
       "prenatal  t             325\n",
       "sports    0             214\n",
       "dtype: int64"
      ]
     },
     "execution_count": 9,
     "metadata": {},
     "output_type": "execute_result"
    }
   ],
   "source": [
    "combined_data.groupby(['hospital', 'blood_test']).size()"
   ]
  },
  {
   "cell_type": "markdown",
   "id": "c9b1e2ff",
   "metadata": {},
   "source": [
    "1. What is the most common age of a patient among all hospitals? Plot a histogram and choose one of the following age ranges: 0-15, 15-35, 35-55, 55-70, or 70-80"
   ]
  },
  {
   "cell_type": "code",
   "execution_count": 10,
   "id": "599cd6b6",
   "metadata": {},
   "outputs": [
    {
     "data": {
      "image/png": "[encoded data removed]",
      "text/plain": [
       "<Figure size 432x288 with 1 Axes>"
      ]
     },
     "metadata": {
      "needs_background": "light"
     },
     "output_type": "display_data"
    }
   ],
   "source": [
    "fig1, ax1 = plt.subplots()\n",
    "\n",
    "sns.histplot(x='age', data=combined_data, ax=ax1, bins=[0, 15, 35, 55, 70, 80])\n",
    "plt.show()"
   ]
  },
  {
   "cell_type": "markdown",
   "id": "84fd7c4b",
   "metadata": {},
   "source": [
    "2. What is the most common diagnosis among patients in all hospitals? Create a pie chart"
   ]
  },
  {
   "cell_type": "code",
   "execution_count": 11,
   "id": "1c73c72b",
   "metadata": {},
   "outputs": [
    {
     "data": {
      "image/png": "[encoded data removed]",
      "text/plain": [
       "<Figure size 432x288 with 1 Axes>"
      ]
     },
     "metadata": {},
     "output_type": "display_data"
    }
   ],
   "source": [
    "diagnoses = combined_data.diagnosis.value_counts()/combined_data.shape[0]\n",
    "\n",
    "fig1, ax1 = plt.subplots()\n",
    "ax1.pie(diagnoses, labels=diagnoses.index, explode=[.1,0,0,0,0,0,0], shadow=True, autopct='%1.1f%%')\n",
    "plt.show()"
   ]
  },
  {
   "cell_type": "markdown",
   "id": "57c91fad",
   "metadata": {},
   "source": [
    "3. Build a violin plot of height distribution by hospitals. Try to answer the questions. What is the main reason for the gap in values? Why there are two peaks, which correspond to the relatively small and big values? No special form is required to answer this question"
   ]
  },
  {
   "cell_type": "code",
   "execution_count": 12,
   "id": "f3841a34",
   "metadata": {},
   "outputs": [
    {
     "data": {
      "image/png": "[encoded data removed]",
      "text/plain": [
       "<Figure size 432x288 with 1 Axes>"
      ]
     },
     "metadata": {
      "needs_background": "light"
     },
     "output_type": "display_data"
    }
   ],
   "source": [
    "fig1, ax1 = plt.subplots()\n",
    "\n",
    "sns.violinplot(x='hospital', y='height', data=combined_data, ax=ax1)\n",
    "plt.show()"
   ]
  }
 ],
 "metadata": {
  "kernelspec": {
   "display_name": "Python 3 (ipykernel)",
   "language": "python",
   "name": "python3"
  },
  "language_info": {
   "codemirror_mode": {
    "name": "ipython",
    "version": 3
   },
   "file_extension": ".py",
   "mimetype": "text/x-python",
   "name": "python",
   "nbconvert_exporter": "python",
   "pygments_lexer": "ipython3",
   "version": "3.8.10"
  }
 },
 "nbformat": 4,
 "nbformat_minor": 5
}
